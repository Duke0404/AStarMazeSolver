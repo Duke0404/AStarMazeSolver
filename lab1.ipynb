{
 "cells": [
  {
   "attachments": {},
   "cell_type": "markdown",
   "metadata": {},
   "source": [
    "# Lab 1"
   ]
  },
  {
   "cell_type": "code",
   "execution_count": 43,
   "metadata": {},
   "outputs": [],
   "source": [
    "from time import sleep\n",
    "from IPython.display import clear_output"
   ]
  },
  {
   "cell_type": "code",
   "execution_count": 44,
   "metadata": {},
   "outputs": [],
   "source": [
    "WALL = \"#\"\n",
    "OPEN = \"-\"\n",
    "DISPLAY_TIME = 0.1 # seconds\n",
    "\n",
    "# FILENAME = \"maze1\"\n",
    "# START = (0, 1)\n",
    "# GOAL = (2, 4)\n",
    "\n",
    "# FILENAME = \"maze2\"\n",
    "# START = (0, 0)\n",
    "# GOAL = (3, 3)\n",
    "\n",
    "# FILENAME = \"maze3\"\n",
    "# START = (0, 0)\n",
    "# GOAL = (4, 7)\n",
    "\n",
    "FILENAME = \"maze4\"\n",
    "START = (0, 0)\n",
    "GOAL = (2, 0)\n"
   ]
  },
  {
   "attachments": {},
   "cell_type": "markdown",
   "metadata": {},
   "source": [
    "#### Each position of the maze"
   ]
  },
  {
   "cell_type": "code",
   "execution_count": 45,
   "metadata": {},
   "outputs": [],
   "source": [
    "class Node:\n",
    "    def __init__(self, x, y, g=0, h=0):\n",
    "        self.x = x\n",
    "        self.y = y\n",
    "        self.g = g\n",
    "        self.h = h\n",
    "        self.f = g + h\n",
    "        self.parent = None\n",
    "\n",
    "    def __lt__(self, other):\n",
    "        return self.f < other.f\n",
    "    \n",
    "    def coordinates(self):\n",
    "        return (self.x, self.y)"
   ]
  },
  {
   "attachments": {},
   "cell_type": "markdown",
   "metadata": {},
   "source": [
    "#### Function to read maze from file"
   ]
  },
  {
   "cell_type": "code",
   "execution_count": 46,
   "metadata": {},
   "outputs": [],
   "source": [
    "def read_maze_file(filename: str):\n",
    "    with open(filename + \".txt\", \"r\") as file:\n",
    "        maze = [list(line.strip()) for line in file]\n",
    "\n",
    "    if len(maze) == 0:\n",
    "        raise Exception(\"Maze file is empty\")\n",
    "    \n",
    "    for row in maze:\n",
    "        if len(row) != len(maze[0]):\n",
    "            raise Exception(\"Maze file is malformed\")\n",
    "    \n",
    "    return maze"
   ]
  },
  {
   "attachments": {},
   "cell_type": "markdown",
   "metadata": {},
   "source": [
    "#### Function to set the start and end positions in the maze"
   ]
  },
  {
   "cell_type": "code",
   "execution_count": 47,
   "metadata": {},
   "outputs": [],
   "source": [
    "def position(coordinates: tuple[int, int], maze: list[list[str]]):\n",
    "    x = coordinates[0]\n",
    "    y = coordinates[1]\n",
    "\n",
    "    if x < 0 or x >= len(maze) or y < 0 or y >= len(maze[0]) or maze[x][y] == WALL:\n",
    "        raise ValueError(\"Invalid position\")\n",
    "    else:\n",
    "        return Node(x, y)"
   ]
  },
  {
   "attachments": {},
   "cell_type": "markdown",
   "metadata": {},
   "source": [
    "#### Function to caclulate Heuristic"
   ]
  },
  {
   "cell_type": "code",
   "execution_count": 48,
   "metadata": {},
   "outputs": [],
   "source": [
    "def heuristic(a: Node, b: Node):\n",
    "    return abs(a.x - b.x) + abs(a.y - b.y)"
   ]
  },
  {
   "attachments": {},
   "cell_type": "markdown",
   "metadata": {},
   "source": [
    "#### Function to print maze"
   ]
  },
  {
   "cell_type": "code",
   "execution_count": 49,
   "metadata": {},
   "outputs": [],
   "source": [
    "def print_maze(maze: list[list[str]], checked: set[tuple[int, int]], path: list[tuple[int, int]], start: Node, end: Node):\n",
    "    clear_output()\n",
    "\n",
    "    for i in range(len(maze)):\n",
    "        for j in range(len(maze[i])):\n",
    "            if (i, j) == start.coordinates():\n",
    "                print(\"\\x1b[32m▶️\\x1b[0m\", end=\" \")\n",
    "            elif (i, j) == end.coordinates():\n",
    "                print(\"\\x1b[31m★\\x1b[0m\", end=\" \")\n",
    "            elif (i, j) in path:\n",
    "                print(\"\\x1b[33mx\\x1b[0m\", end=\" \")\n",
    "            elif (i, j) in checked:\n",
    "                print(\"\\x1b[36mo\\x1b[0m\", end=\" \")\n",
    "            elif maze[i][j] == OPEN:\n",
    "                print(\"□\", end=\" \")\n",
    "            elif maze[i][j] == WALL:\n",
    "                print(\"■\", end=\" \")\n",
    "        print()\n"
   ]
  },
  {
   "attachments": {},
   "cell_type": "markdown",
   "metadata": {},
   "source": [
    "#### Function to find the path through the maze"
   ]
  },
  {
   "cell_type": "code",
   "execution_count": 50,
   "metadata": {},
   "outputs": [],
   "source": [
    "def a_star(maze: list[list[str]], start: Node, goal: Node, display_time = 0.25):\n",
    "    checked = set()\n",
    "    open = [start]\n",
    "\n",
    "    while len(open) > 0:\n",
    "        open.sort()\n",
    "        current = open.pop(0)\n",
    "        checked.add((current.x, current.y))\n",
    "\n",
    "        # Print maze at current step\n",
    "        print_maze(maze, checked, [], start, goal)\n",
    "        sleep(display_time)\n",
    "\n",
    "        # If goal is reached\n",
    "        if current.x == goal.x and current.y == goal.y:\n",
    "            path = []\n",
    "            while current is not None:\n",
    "                path.append((current.x, current.y))\n",
    "                current = current.parent\n",
    "\n",
    "            # Print final maze with path\n",
    "            print_maze(maze, checked, path[::-1], start, goal)\n",
    "            return            \n",
    "\n",
    "        children = []\n",
    "\n",
    "        # Generate children\n",
    "        for new_position in [(0, -1), (0, 1), (-1, 0), (1, 0)]:\n",
    "            node_position = (\n",
    "                current.x + new_position[0], current.y + new_position[1])\n",
    "\n",
    "            # If new position is out of bounds\n",
    "            if node_position[0] > (len(maze) - 1) or node_position[0] < 0 or node_position[1] > (len(maze[len(maze) - 1]) - 1) or node_position[1] < 0:\n",
    "                continue\n",
    "\n",
    "            # If new position is a wall\n",
    "            if maze[node_position[0]][node_position[1]] != WALL:\n",
    "                new_node = Node(\n",
    "                    node_position[0], node_position[1], current.g, current.h)\n",
    "                children.append(new_node)\n",
    "\n",
    "        # Loop through children\n",
    "        for child in children:\n",
    "            # If node is already checked\n",
    "            if (child.x, child.y) in checked:\n",
    "                continue\n",
    "\n",
    "            child.g = current.g + 1\n",
    "            child.h = heuristic(child, goal)\n",
    "            child.parent = current\n",
    "            open.append(child)\n"
   ]
  },
  {
   "cell_type": "code",
   "execution_count": 51,
   "metadata": {},
   "outputs": [],
   "source": [
    "maze = read_maze_file(FILENAME)\n",
    "start = position(START, maze)\n",
    "goal = position(GOAL, maze)"
   ]
  },
  {
   "cell_type": "code",
   "execution_count": 52,
   "metadata": {},
   "outputs": [
    {
     "name": "stdout",
     "output_type": "stream",
     "text": [
      "\u001b[32m▶️\u001b[0m \u001b[36mo\u001b[0m \u001b[36mo\u001b[0m \u001b[36mo\u001b[0m \u001b[36mo\u001b[0m \u001b[36mo\u001b[0m \u001b[36mo\u001b[0m \n",
      "■ ■ ■ ■ ■ ■ ■ \n",
      "\u001b[31m★\u001b[0m □ □ □ □ □ □ \n"
     ]
    }
   ],
   "source": [
    "a_star(maze, start, goal, DISPLAY_TIME)"
   ]
  }
 ],
 "metadata": {
  "kernelspec": {
   "display_name": "Python 3",
   "language": "python",
   "name": "python3"
  },
  "language_info": {
   "codemirror_mode": {
    "name": "ipython",
    "version": 3
   },
   "file_extension": ".py",
   "mimetype": "text/x-python",
   "name": "python",
   "nbconvert_exporter": "python",
   "pygments_lexer": "ipython3",
   "version": "3.9.13"
  },
  "orig_nbformat": 4
 },
 "nbformat": 4,
 "nbformat_minor": 2
}
