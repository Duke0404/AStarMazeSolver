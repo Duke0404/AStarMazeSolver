{
 "cells": [
  {
   "attachments": {},
   "cell_type": "markdown",
   "metadata": {},
   "source": [
    "# Lab 1"
   ]
  },
  {
   "cell_type": "code",
   "execution_count": 169,
   "metadata": {},
   "outputs": [],
   "source": [
    "from time import sleep\n",
    "from IPython.display import clear_output\n",
    "import numpy as np\n",
    "import heapq"
   ]
  },
  {
   "cell_type": "code",
   "execution_count": 170,
   "metadata": {},
   "outputs": [],
   "source": [
    "WALL = \"#\"\n",
    "OPEN = \"-\"\n",
    "MANHATTAN = True\n",
    "EUCLIDEAN = False"
   ]
  },
  {
   "cell_type": "code",
   "execution_count": 171,
   "metadata": {},
   "outputs": [],
   "source": [
    "DISPLAY_TIME = 0 # seconds\n",
    "HEURISTIC_TYPE = MANHATTAN\n",
    "# HEURISTIC_TYPE = EUCLIDEAN\n",
    "\n",
    "# FILENAME = \"maze1\"\n",
    "# START = (0, 1)\n",
    "# GOAL = (2, 4)\n",
    "\n",
    "# FILENAME = \"maze2\"\n",
    "# START = (0, 0)\n",
    "# GOAL = (3, 3)\n",
    "\n",
    "# FILENAME = \"maze3\"\n",
    "# START = (0, 0)\n",
    "# GOAL = (4, 7)\n",
    "\n",
    "# FILENAME = \"maze4\"\n",
    "# START = (0, 0)\n",
    "# GOAL = (2, 0)\n",
    "\n",
    "# FILENAME = \"maze5\"\n",
    "# START = (16, 0)\n",
    "# GOAL = (16, 16)\n",
    "\n",
    "FILENAME = \"maze6\"\n",
    "START = (1, 1)\n",
    "GOAL = (29, 35)"
   ]
  },
  {
   "cell_type": "code",
   "execution_count": 172,
   "metadata": {},
   "outputs": [],
   "source": [
    "class PriorityQueue:\n",
    "    def __init__(self):\n",
    "        self.queue = []\n",
    "        self._index = 0\n",
    "    def push(self, item, priority):\n",
    "        # heappush inserts the first element on the queue _queue\n",
    "        heapq.heappush(self.queue, (priority, self._index, item))\n",
    "        self._index += 1\n",
    "    def pop(self):\n",
    "        # heappop removes the first element from the queue _queue\n",
    "        return heapq.heappop(self.queue)[-1]"
   ]
  },
  {
   "attachments": {},
   "cell_type": "markdown",
   "metadata": {},
   "source": [
    "#### Each position of the maze"
   ]
  },
  {
   "cell_type": "code",
   "execution_count": 173,
   "metadata": {},
   "outputs": [],
   "source": [
    "class Node:\n",
    "    def __init__(self, x: int, y: int, g=0, h=0):\n",
    "        self.x = x\n",
    "        self.y = y\n",
    "        self.g = g\n",
    "        self.h = h\n",
    "        self.f = g + h\n",
    "        self.parent = None\n",
    "\n",
    "    def __lt__(self, other):\n",
    "        return self.f < other.f\n",
    "    \n",
    "    def coordinates(self):\n",
    "        return (self.x, self.y)"
   ]
  },
  {
   "attachments": {},
   "cell_type": "markdown",
   "metadata": {},
   "source": [
    "#### Function to read maze from file"
   ]
  },
  {
   "cell_type": "code",
   "execution_count": 174,
   "metadata": {},
   "outputs": [],
   "source": [
    "def read_maze_file(filename: str):\n",
    "    with open(filename + \".txt\", \"r\") as file:\n",
    "        maze = np.array([list(line.strip()) for line in file])\n",
    "\n",
    "    if len(maze) == 0:\n",
    "        raise Exception(\"Maze file is empty\")\n",
    "    \n",
    "    for row in maze:\n",
    "        if len(row) != len(maze[0]):\n",
    "            raise Exception(\"Maze file is malformed\")\n",
    "    \n",
    "    return maze"
   ]
  },
  {
   "attachments": {},
   "cell_type": "markdown",
   "metadata": {},
   "source": [
    "#### Function to set the start and end positions in the maze"
   ]
  },
  {
   "cell_type": "code",
   "execution_count": 175,
   "metadata": {},
   "outputs": [],
   "source": [
    "def position(coordinates: tuple[int, int], maze: np.ndarray):\n",
    "    x = coordinates[0]\n",
    "    y = coordinates[1]\n",
    "\n",
    "    if x < 0 or x >= len(maze) or y < 0 or y >= len(maze[0]) or maze[x][y] == WALL:\n",
    "        raise ValueError(\"Invalid position\")\n",
    "    else:\n",
    "        return Node(x, y)"
   ]
  },
  {
   "attachments": {},
   "cell_type": "markdown",
   "metadata": {},
   "source": [
    "#### Function to caclulate Heuristic"
   ]
  },
  {
   "cell_type": "code",
   "execution_count": 176,
   "metadata": {},
   "outputs": [],
   "source": [
    "def heuristic(a: Node, b: Node, type=MANHATTAN):\n",
    "    if type == MANHATTAN:\n",
    "        return abs(a.x - b.x) + abs(a.y - b.y)\n",
    "    elif type == EUCLIDEAN:\n",
    "        return ((a.x - b.x) ** 2 + (a.y - b.y) ** 2) ** 0.5"
   ]
  },
  {
   "attachments": {},
   "cell_type": "markdown",
   "metadata": {},
   "source": [
    "#### Function to print maze"
   ]
  },
  {
   "cell_type": "code",
   "execution_count": 177,
   "metadata": {},
   "outputs": [],
   "source": [
    "def print_maze(maze: np.ndarray, checked: set[tuple[int, int]], path: list[tuple[int, int]], start: Node, end: Node):\n",
    "    clear_output(wait=False if DISPLAY_TIME > 0 else True)\n",
    "\n",
    "    START_SYMBOL = \"✘\"\n",
    "    END_SYMBOL = \"✔\"\n",
    "    PATH_SYMBOL = \"x\"\n",
    "    CHECKED_SYMBOL = \"o\"\n",
    "    OPEN_SPACE_SYMBOL = \"□\"\n",
    "    WALL_SYMBOL = \"■\"\n",
    "\n",
    "    output = \"\"\n",
    "    for i in range(len(maze)):\n",
    "        for j in range(len(maze[i])):\n",
    "            if (i, j) == start.coordinates():\n",
    "                output += \"\\x1b[32m\" + START_SYMBOL + \"\\x1b[0m \"\n",
    "            elif (i, j) == end.coordinates():\n",
    "                output += \"\\x1b[31m\" + END_SYMBOL + \"\\x1b[0m \"\n",
    "            elif (i, j) in path:\n",
    "                output += \"\\x1b[33m\" + PATH_SYMBOL + \"\\x1b[0m \"\n",
    "            elif (i, j) in checked:\n",
    "                output += \"\\x1b[36m\" + CHECKED_SYMBOL + \"\\x1b[0m \"\n",
    "            elif maze[i][j] == OPEN:\n",
    "                output += OPEN_SPACE_SYMBOL + \" \"\n",
    "            elif maze[i][j] == WALL:\n",
    "                output += WALL_SYMBOL + \" \"\n",
    "        output += \"\\n\"\n",
    "\n",
    "    print(output[:-1])"
   ]
  },
  {
   "attachments": {},
   "cell_type": "markdown",
   "metadata": {},
   "source": [
    "#### Function to find the path through the maze"
   ]
  },
  {
   "cell_type": "code",
   "execution_count": 178,
   "metadata": {},
   "outputs": [],
   "source": [
    "def a_star(maze: np.ndarray, start: Node, goal: Node, display_time=0.25, h_type=MANHATTAN):\n",
    "    checked = set()\n",
    "    open = PriorityQueue()\n",
    "    open.push(start,[0,0])\n",
    "    # open = [start]\n",
    "    while len(open.queue) > 0:\n",
    "        #heapq.heapify(open.queue)\n",
    "        current = open.pop()\n",
    "        #current = heapq.heappop(open)\n",
    "        checked.add((current.x, current.y))\n",
    "\n",
    "        # Print maze at current step\n",
    "        if display_time > 0:\n",
    "            print_maze(maze, checked, [], start, goal)\n",
    "            sleep(display_time)\n",
    "\n",
    "        # If goal is reached\n",
    "        if current.x == goal.x and current.y == goal.y:\n",
    "            path = []\n",
    "            while current is not None:\n",
    "                path.append((current.x, current.y))\n",
    "                current = current.parent\n",
    "\n",
    "            # Print final maze with path\n",
    "            print_maze(maze, checked, path[::-1], start, goal)\n",
    "            return\n",
    "\n",
    "        children = []\n",
    "\n",
    "        # Generate children\n",
    "        for dx, dy in [(-1, 0), (1, 0),(0, -1), (0, 1)]:\n",
    "            node_position = (current.x + dx, current.y + dy)\n",
    "\n",
    "            # If new position is out of bounds or a wall or already in checked set\n",
    "            if (\n",
    "                node_position[0] < 0 or node_position[0] >= len(maze) or\n",
    "                node_position[1] < 0 or node_position[1] >= len(maze[0]) or\n",
    "                maze[node_position[0]][node_position[1]] == WALL or\n",
    "                node_position in checked\n",
    "            ):\n",
    "                continue\n",
    "\n",
    "            heuristic_value = heuristic(\n",
    "                Node(node_position[0], node_position[1]), goal, h_type)\n",
    "            new_node = Node(\n",
    "                node_position[0], node_position[1], current.g + 1, heuristic_value)\n",
    "            new_node.parent = current\n",
    "            children.append(new_node)\n",
    "            # print(current.f)\n",
    "\n",
    "        # Loop through children\n",
    "        for child in children:\n",
    "            if (child.x, child.y) in checked:\n",
    "                continue\n",
    "            open.push(child,[child.f,child.h])\n",
    "            # heapq.heappush(open, child)\n",
    "            checked.add((child.x, child.y))"
   ]
  },
  {
   "cell_type": "code",
   "execution_count": 179,
   "metadata": {},
   "outputs": [],
   "source": [
    "maze = read_maze_file(FILENAME)\n",
    "start = position(START, maze)\n",
    "goal = position(GOAL, maze)"
   ]
  },
  {
   "cell_type": "code",
   "execution_count": 180,
   "metadata": {},
   "outputs": [
    {
     "name": "stdout",
     "output_type": "stream",
     "text": [
      "■ ■ ■ ■ ■ ■ ■ ■ ■ ■ ■ ■ ■ ■ ■ \u001b[36mo\u001b[0m \u001b[36mo\u001b[0m \u001b[36mo\u001b[0m \u001b[36mo\u001b[0m \u001b[36mo\u001b[0m \u001b[36mo\u001b[0m \u001b[36mo\u001b[0m \u001b[36mo\u001b[0m \u001b[36mo\u001b[0m \u001b[36mo\u001b[0m \u001b[36mo\u001b[0m \u001b[36mo\u001b[0m \u001b[36mo\u001b[0m \u001b[36mo\u001b[0m \u001b[36mo\u001b[0m \u001b[36mo\u001b[0m \u001b[36mo\u001b[0m \u001b[36mo\u001b[0m ■ \u001b[36mo\u001b[0m \u001b[36mo\u001b[0m \n",
      "■ \u001b[32m✘\u001b[0m \u001b[36mo\u001b[0m \u001b[36mo\u001b[0m \u001b[36mo\u001b[0m \u001b[36mo\u001b[0m \u001b[36mo\u001b[0m \u001b[36mo\u001b[0m \u001b[36mo\u001b[0m \u001b[36mo\u001b[0m \u001b[36mo\u001b[0m \u001b[36mo\u001b[0m \u001b[36mo\u001b[0m \u001b[36mo\u001b[0m \u001b[36mo\u001b[0m \u001b[36mo\u001b[0m \u001b[36mo\u001b[0m \u001b[36mo\u001b[0m \u001b[36mo\u001b[0m \u001b[36mo\u001b[0m ■ ■ ■ \u001b[36mo\u001b[0m \u001b[36mo\u001b[0m \u001b[36mo\u001b[0m \u001b[36mo\u001b[0m \u001b[36mo\u001b[0m ■ ■ ■ \u001b[36mo\u001b[0m \u001b[36mo\u001b[0m \u001b[36mo\u001b[0m \u001b[36mo\u001b[0m ■ \n",
      "■ \u001b[33mx\u001b[0m \u001b[36mo\u001b[0m ■ ■ ■ ■ ■ ■ \u001b[36mo\u001b[0m \u001b[36mo\u001b[0m ■ ■ ■ ■ ■ ■ \u001b[36mo\u001b[0m \u001b[36mo\u001b[0m \u001b[36mo\u001b[0m \u001b[36mo\u001b[0m \u001b[36mo\u001b[0m \u001b[36mo\u001b[0m \u001b[36mo\u001b[0m ■ ■ \u001b[36mo\u001b[0m \u001b[36mo\u001b[0m \u001b[36mo\u001b[0m \u001b[36mo\u001b[0m \u001b[36mo\u001b[0m \u001b[36mo\u001b[0m \u001b[36mo\u001b[0m \u001b[36mo\u001b[0m \u001b[36mo\u001b[0m ■ \n",
      "■ \u001b[33mx\u001b[0m \u001b[36mo\u001b[0m ■ ■ ■ ■ ■ ■ \u001b[36mo\u001b[0m \u001b[36mo\u001b[0m ■ ■ ■ ■ ■ ■ \u001b[36mo\u001b[0m \u001b[36mo\u001b[0m \u001b[36mo\u001b[0m \u001b[36mo\u001b[0m ■ ■ ■ ■ ■ \u001b[36mo\u001b[0m \u001b[36mo\u001b[0m \u001b[36mo\u001b[0m \u001b[36mo\u001b[0m \u001b[36mo\u001b[0m ■ ■ ■ ■ □ \n",
      "■ \u001b[33mx\u001b[0m \u001b[33mx\u001b[0m \u001b[33mx\u001b[0m \u001b[33mx\u001b[0m \u001b[33mx\u001b[0m \u001b[36mo\u001b[0m \u001b[36mo\u001b[0m ■ \u001b[36mo\u001b[0m \u001b[36mo\u001b[0m \u001b[36mo\u001b[0m \u001b[36mo\u001b[0m \u001b[36mo\u001b[0m \u001b[36mo\u001b[0m \u001b[36mo\u001b[0m \u001b[36mo\u001b[0m \u001b[36mo\u001b[0m \u001b[36mo\u001b[0m \u001b[36mo\u001b[0m \u001b[36mo\u001b[0m \u001b[36mo\u001b[0m \u001b[36mo\u001b[0m ■ ■ \u001b[36mo\u001b[0m \u001b[36mo\u001b[0m \u001b[36mo\u001b[0m \u001b[36mo\u001b[0m \u001b[36mo\u001b[0m \u001b[36mo\u001b[0m \u001b[36mo\u001b[0m \u001b[36mo\u001b[0m \u001b[36mo\u001b[0m ■ □ \n",
      "■ ■ ■ ■ ■ \u001b[33mx\u001b[0m \u001b[36mo\u001b[0m \u001b[36mo\u001b[0m ■ \u001b[36mo\u001b[0m \u001b[36mo\u001b[0m ■ ■ ■ ■ ■ ■ ■ ■ ■ ■ ■ ■ ■ ■ \u001b[36mo\u001b[0m \u001b[36mo\u001b[0m ■ ■ ■ ■ ■ ■ ■ □ □ \n",
      "■ \u001b[36mo\u001b[0m \u001b[33mx\u001b[0m \u001b[33mx\u001b[0m \u001b[33mx\u001b[0m \u001b[33mx\u001b[0m \u001b[36mo\u001b[0m \u001b[36mo\u001b[0m \u001b[36mo\u001b[0m \u001b[36mo\u001b[0m ■ ■ □ □ □ □ □ □ □ □ □ □ \u001b[36mo\u001b[0m \u001b[36mo\u001b[0m \u001b[36mo\u001b[0m \u001b[36mo\u001b[0m \u001b[36mo\u001b[0m ■ ■ □ □ □ □ ■ □ □ \n",
      "■ \u001b[36mo\u001b[0m \u001b[33mx\u001b[0m ■ ■ ■ ■ ■ ■ ■ ■ ■ ■ ■ ■ ■ ■ ■ ■ ■ ■ ■ \u001b[36mo\u001b[0m \u001b[36mo\u001b[0m \u001b[36mo\u001b[0m \u001b[36mo\u001b[0m \u001b[36mo\u001b[0m \u001b[36mo\u001b[0m ■ ■ □ □ □ □ ■ □ \n",
      "■ \u001b[36mo\u001b[0m \u001b[33mx\u001b[0m \u001b[36mo\u001b[0m \u001b[36mo\u001b[0m \u001b[36mo\u001b[0m \u001b[36mo\u001b[0m \u001b[36mo\u001b[0m \u001b[36mo\u001b[0m \u001b[36mo\u001b[0m \u001b[36mo\u001b[0m \u001b[36mo\u001b[0m \u001b[36mo\u001b[0m \u001b[36mo\u001b[0m \u001b[36mo\u001b[0m \u001b[36mo\u001b[0m \u001b[36mo\u001b[0m \u001b[36mo\u001b[0m \u001b[36mo\u001b[0m \u001b[36mo\u001b[0m \u001b[36mo\u001b[0m \u001b[36mo\u001b[0m \u001b[36mo\u001b[0m \u001b[36mo\u001b[0m \u001b[36mo\u001b[0m ■ ■ ■ ■ ■ ■ □ □ □ □ ■ \n",
      "■ \u001b[36mo\u001b[0m \u001b[33mx\u001b[0m ■ ■ ■ ■ ■ \u001b[36mo\u001b[0m \u001b[36mo\u001b[0m ■ ■ ■ ■ ■ ■ \u001b[36mo\u001b[0m \u001b[36mo\u001b[0m \u001b[36mo\u001b[0m \u001b[36mo\u001b[0m \u001b[36mo\u001b[0m \u001b[36mo\u001b[0m \u001b[36mo\u001b[0m \u001b[36mo\u001b[0m \u001b[36mo\u001b[0m \u001b[36mo\u001b[0m \u001b[36mo\u001b[0m \u001b[36mo\u001b[0m \u001b[36mo\u001b[0m ■ □ □ □ ■ □ □ \n",
      "■ \u001b[36mo\u001b[0m \u001b[33mx\u001b[0m ■ ■ ■ ■ ■ \u001b[36mo\u001b[0m \u001b[36mo\u001b[0m ■ ■ ■ ■ ■ ■ \u001b[36mo\u001b[0m \u001b[36mo\u001b[0m ■ ■ ■ ■ ■ ■ ■ ■ ■ ■ ■ ■ □ □ □ ■ □ □ \n",
      "■ \u001b[36mo\u001b[0m \u001b[33mx\u001b[0m \u001b[33mx\u001b[0m \u001b[33mx\u001b[0m \u001b[33mx\u001b[0m \u001b[33mx\u001b[0m \u001b[33mx\u001b[0m \u001b[36mo\u001b[0m \u001b[36mo\u001b[0m ■ \u001b[36mo\u001b[0m \u001b[36mo\u001b[0m □ \u001b[36mo\u001b[0m \u001b[36mo\u001b[0m \u001b[36mo\u001b[0m \u001b[36mo\u001b[0m \u001b[36mo\u001b[0m \u001b[36mo\u001b[0m \u001b[36mo\u001b[0m ■ □ □ □ □ □ □ ■ □ □ □ □ □ ■ □ \n",
      "■ ■ ■ ■ ■ ■ ■ \u001b[33mx\u001b[0m \u001b[36mo\u001b[0m \u001b[36mo\u001b[0m ■ \u001b[36mo\u001b[0m \u001b[36mo\u001b[0m ■ ■ ■ ■ ■ ■ ■ ■ ■ □ □ □ □ □ □ ■ □ ■ ■ ■ ■ □ □ \n",
      "■ □ □ □ □ \u001b[36mo\u001b[0m \u001b[36mo\u001b[0m \u001b[33mx\u001b[0m \u001b[36mo\u001b[0m \u001b[36mo\u001b[0m \u001b[36mo\u001b[0m \u001b[36mo\u001b[0m ■ □ □ □ □ □ □ □ □ □ □ □ ■ □ □ □ □ □ □ □ □ □ □ ■ \n",
      "■ ■ ■ ■ ■ ■ \u001b[36mo\u001b[0m \u001b[33mx\u001b[0m ■ ■ ■ ■ ■ ■ ■ ■ ■ ■ ■ ■ \u001b[36mo\u001b[0m \u001b[36mo\u001b[0m ■ ■ ■ ■ ■ ■ ■ ■ □ □ ■ ■ □ □ \n",
      "■ □ □ □ □ \u001b[36mo\u001b[0m \u001b[36mo\u001b[0m \u001b[33mx\u001b[0m \u001b[33mx\u001b[0m \u001b[33mx\u001b[0m \u001b[33mx\u001b[0m \u001b[36mo\u001b[0m \u001b[36mo\u001b[0m ■ \u001b[36mo\u001b[0m \u001b[36mo\u001b[0m \u001b[33mx\u001b[0m \u001b[33mx\u001b[0m \u001b[33mx\u001b[0m \u001b[33mx\u001b[0m \u001b[33mx\u001b[0m \u001b[33mx\u001b[0m \u001b[33mx\u001b[0m \u001b[33mx\u001b[0m \u001b[36mo\u001b[0m □ □ □ □ □ □ ■ □ ■ □ □ \n",
      "■ □ ■ ■ ■ ■ ■ ■ ■ ■ \u001b[33mx\u001b[0m \u001b[36mo\u001b[0m \u001b[36mo\u001b[0m ■ \u001b[36mo\u001b[0m \u001b[36mo\u001b[0m \u001b[33mx\u001b[0m ■ ■ ■ ■ ■ ■ \u001b[33mx\u001b[0m \u001b[33mx\u001b[0m \u001b[36mo\u001b[0m □ □ □ □ ■ □ □ ■ □ □ \n",
      "■ □ □ □ □ □ □ □ \u001b[36mo\u001b[0m \u001b[36mo\u001b[0m \u001b[33mx\u001b[0m \u001b[33mx\u001b[0m \u001b[33mx\u001b[0m \u001b[33mx\u001b[0m \u001b[33mx\u001b[0m \u001b[33mx\u001b[0m \u001b[33mx\u001b[0m \u001b[36mo\u001b[0m \u001b[36mo\u001b[0m \u001b[36mo\u001b[0m \u001b[36mo\u001b[0m \u001b[36mo\u001b[0m \u001b[36mo\u001b[0m ■ \u001b[33mx\u001b[0m \u001b[33mx\u001b[0m \u001b[36mo\u001b[0m □ □ □ □ □ □ □ ■ □ \n",
      "■ ■ ■ ■ ■ ■ ■ ■ ■ ■ \u001b[36mo\u001b[0m \u001b[36mo\u001b[0m \u001b[36mo\u001b[0m ■ ■ ■ ■ ■ ■ ■ ■ ■ ■ ■ ■ \u001b[33mx\u001b[0m \u001b[36mo\u001b[0m □ ■ ■ ■ ■ ■ □ □ □ \n",
      "■ □ □ □ □ □ □ □ \u001b[36mo\u001b[0m \u001b[36mo\u001b[0m \u001b[36mo\u001b[0m \u001b[36mo\u001b[0m \u001b[36mo\u001b[0m \u001b[36mo\u001b[0m \u001b[36mo\u001b[0m \u001b[36mo\u001b[0m \u001b[36mo\u001b[0m \u001b[36mo\u001b[0m \u001b[36mo\u001b[0m \u001b[36mo\u001b[0m \u001b[36mo\u001b[0m \u001b[36mo\u001b[0m \u001b[36mo\u001b[0m ■ \u001b[36mo\u001b[0m \u001b[33mx\u001b[0m \u001b[33mx\u001b[0m \u001b[36mo\u001b[0m □ □ □ □ □ □ ■ □ \n",
      "■ □ ■ ■ ■ ■ ■ □ □ ■ ■ ■ ■ ■ ■ ■ ■ ■ ■ ■ ■ ■ ■ ■ ■ ■ \u001b[33mx\u001b[0m \u001b[36mo\u001b[0m ■ ■ ■ ■ ■ □ □ □ \n",
      "■ □ ■ ■ ■ ■ ■ □ □ □ □ □ □ □ □ □ □ □ □ □ □ □ □ □ □ \u001b[36mo\u001b[0m \u001b[33mx\u001b[0m \u001b[36mo\u001b[0m ■ □ □ □ □ ■ □ □ \n",
      "■ □ ■ ■ □ □ □ □ □ □ □ □ □ ■ ■ ■ ■ ■ ■ ■ ■ ■ □ □ □ \u001b[36mo\u001b[0m \u001b[33mx\u001b[0m \u001b[36mo\u001b[0m ■ \u001b[36mo\u001b[0m ■ ■ □ ■ □ □ \n",
      "■ □ ■ ■ □ □ □ ■ ■ □ □ □ □ □ □ □ □ □ □ □ □ □ □ □ □ \u001b[36mo\u001b[0m \u001b[33mx\u001b[0m \u001b[33mx\u001b[0m \u001b[33mx\u001b[0m \u001b[33mx\u001b[0m \u001b[33mx\u001b[0m \u001b[36mo\u001b[0m □ ■ □ □ \n",
      "■ □ □ □ □ □ □ □ □ ■ ■ □ □ ■ ■ ■ ■ ■ ■ ■ ■ ■ □ □ □ \u001b[36mo\u001b[0m \u001b[36mo\u001b[0m \u001b[36mo\u001b[0m ■ ■ \u001b[33mx\u001b[0m \u001b[36mo\u001b[0m □ ■ □ □ \n",
      "■ ■ ■ ■ □ □ ■ ■ ■ ■ ■ ■ ■ ■ ■ ■ ■ ■ ■ ■ ■ ■ ■ □ □ ■ ■ ■ ■ ■ \u001b[33mx\u001b[0m \u001b[36mo\u001b[0m \u001b[36mo\u001b[0m ■ □ □ \n",
      "■ □ □ □ □ □ □ □ □ □ □ □ □ □ □ □ □ □ □ □ □ □ □ ■ □ □ □ □ □ \u001b[36mo\u001b[0m \u001b[33mx\u001b[0m \u001b[33mx\u001b[0m \u001b[33mx\u001b[0m \u001b[33mx\u001b[0m ■ □ \n",
      "■ □ □ ■ ■ ■ ■ ■ ■ ■ ■ ■ ■ □ □ □ ■ ■ ■ ■ ■ ■ ■ ■ ■ ■ □ □ □ ■ ■ ■ ■ \u001b[33mx\u001b[0m \u001b[33mx\u001b[0m \u001b[36mo\u001b[0m \n",
      "■ □ □ □ □ □ □ □ □ □ □ □ □ □ □ ■ □ □ □ □ □ □ □ □ □ □ □ □ □ □ □ □ □ ■ \u001b[33mx\u001b[0m \u001b[36mo\u001b[0m \n",
      "■ ■ ■ ■ ■ ■ ■ ■ ■ ■ ■ ■ ■ ■ ■ ■ ■ ■ ■ ■ ■ ■ ■ ■ ■ ■ ■ ■ ■ ■ ■ ■ ■ ■ \u001b[33mx\u001b[0m \u001b[31m✔\u001b[0m \n"
     ]
    }
   ],
   "source": [
    "a_star(maze, start, goal, DISPLAY_TIME, HEURISTIC_TYPE)"
   ]
  }
 ],
 "metadata": {
  "kernelspec": {
   "display_name": "Python 3.10.5 64-bit",
   "language": "python",
   "name": "python3"
  },
  "language_info": {
   "codemirror_mode": {
    "name": "ipython",
    "version": 3
   },
   "file_extension": ".py",
   "mimetype": "text/x-python",
   "name": "python",
   "nbconvert_exporter": "python",
   "pygments_lexer": "ipython3",
   "version": "3.10.5"
  },
  "orig_nbformat": 4,
  "vscode": {
   "interpreter": {
    "hash": "afca0ec085f7104625fa42b7fce53316f9d532982699b712bd08a3220e4b2276"
   }
  }
 },
 "nbformat": 4,
 "nbformat_minor": 2
}
